{
 "cells": [
  {
   "cell_type": "markdown",
   "metadata": {},
   "source": [
    "## 1. 함수 선언"
   ]
  },
  {
   "cell_type": "code",
   "execution_count": 1,
   "metadata": {},
   "outputs": [],
   "source": [
    "def my_func(arg1, arg2):\n",
    "    print(\"this is my func\")\n",
    "    print(arg1 + arg2)\n",
    "    return arg1 + arg2"
   ]
  },
  {
   "cell_type": "markdown",
   "metadata": {},
   "source": [
    "my_func라는 이름의 함수를 선언하였다. 함수에 입력되는 인자로는 arg1과 arg2, 두 개의 인자가 존재한다.\n",
    "\n",
    "먼저 \"this is my func\"라는 문구를 출력한다.\n",
    "그 후, 입력받은 두 인자의 합을 출력하고 마지막으로 두 인자의 합을 반환한다.\n",
    "\n",
    "함수를 정의할때는 먼저 def를 써서 함수를 정의하겠다는 것을 알려준다. 그 후 def 함수명(인자): 식으로 정의를 진행한다.\n",
    "주의할 점은 함수 안의 구현 코드들은 들여쓰기가 되어야 한다. 마지막 줄의 return은 함수가 실행되고나서 반환해주는 값을 설정할 때 쓰인다. 위 함수에서는 arg1+arg2, 두 인자의 합을 반환하게 된다. 따라서 만약 my_func(1,2)를 실행하게 되면 두 인자의 합인 3이 반환될 것이다."
   ]
  },
  {
   "cell_type": "code",
   "execution_count": 2,
   "metadata": {},
   "outputs": [
    {
     "name": "stdout",
     "output_type": "stream",
     "text": [
      "this is my func\n",
      "3\n"
     ]
    }
   ],
   "source": [
    "ans = my_func(1,2)"
   ]
  },
  {
   "cell_type": "markdown",
   "metadata": {},
   "source": [
    "## 2. 조건문 (if ~ elif ~ else)"
   ]
  },
  {
   "cell_type": "code",
   "execution_count": 3,
   "metadata": {},
   "outputs": [
    {
     "name": "stdout",
     "output_type": "stream",
     "text": [
      "너 좀 애매하네\n"
     ]
    }
   ],
   "source": [
    "height = [\"작다\", \"애매하다\", \"크다\"]\n",
    "my_height = height[1]\n",
    "\n",
    "if my_height == height[0]:\n",
    "    print(\"너 작다\")\n",
    "elif my_height == height[1]:\n",
    "    print(\"너 좀 애매하네\")\n",
    "else:\n",
    "    print(\"너 좀 크다?\")"
   ]
  },
  {
   "cell_type": "markdown",
   "metadata": {},
   "source": [
    "위 예제는 사람의 키를 작다, 애매하다, 크다로 분류해서 나의 키가 어느정도인지 알아보는 코드이다.\n",
    "\n",
    "나의 키는 175이므로 애매하다로 설정하였다.\n",
    "\n",
    "조건문의 기본 형식은 if (조건): *구현* 이다. \n",
    "\n",
    "> if my_height == height[0]:\n",
    "\n",
    "여기서 조건은 my_height가 height[0], 즉 작다인지를 확인하게 되고, 만약 내 키가 작다면 바로 아래 print(\"너 작다\")가 출력될 것이다.\n",
    "\n",
    "> elif my_height == height[1]:\n",
    "\n",
    "elif는 첫 if조건을 만족하지 못한 경우 실행되며 else if의 줄임말이다. 만약 위에 if조건이 만족되었다면 elif는 실행되지 않는다. my_height는 애매하다, 즉 height[1]에 해당되므로 위 조건이 참으로 되어 알\n",
    "\n",
    "> else:\n",
    "\n",
    "else는 위에 if, elif 조건을 모두 만족하지 못한 모든 경우에 해당된다. "
   ]
  }
 ],
 "metadata": {
  "kernelspec": {
   "display_name": "Python 3",
   "language": "python",
   "name": "python3"
  },
  "language_info": {
   "codemirror_mode": {
    "name": "ipython",
    "version": 3
   },
   "file_extension": ".py",
   "mimetype": "text/x-python",
   "name": "python",
   "nbconvert_exporter": "python",
   "pygments_lexer": "ipython3",
   "version": "3.7.6"
  }
 },
 "nbformat": 4,
 "nbformat_minor": 4
}
