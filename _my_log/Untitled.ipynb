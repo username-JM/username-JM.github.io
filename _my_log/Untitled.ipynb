{
 "cells": [
  {
   "cell_type": "markdown",
   "metadata": {},
   "source": [
    "# 1. 블로그 상단에 메뉴 추가하기\n",
    "\n",
    "\n",
    "1. data/navigation.yml open\n",
    "\n",
    "2. add title and url"
   ]
  },
  {
   "cell_type": "markdown",
   "metadata": {},
   "source": [
    "# 2. 포스팅하기\n",
    "\n",
    "1. cd _posts\n",
    "2. vim YYYY-MM-DD-NAME.md\n",
    "\n",
    "\n",
    "## ***format***\n",
    "***\n",
    "```python\n",
    "---\n",
    "title: \"제목\"\n",
    "excerpt: \"부제목\"\n",
    "    \n",
    "categories:\n",
    "    - 카테고리이름\n",
    "tags:\n",
    "    - 태그 이름\n",
    "\n",
    "---\n",
    "\n",
    "\n",
    "포스팅 내용\n",
    "\n",
    "```\n",
    "***"
   ]
  },
  {
   "cell_type": "markdown",
   "metadata": {},
   "source": [
    "# 3. 카테고리 및 태그 설정\n",
    "\n",
    "1. cd _pages\n",
    "2. vim name-archive.md\n",
    "\n",
    "## ***format***\n",
    "***\n",
    "```python\n",
    "---\n",
    "title: \"Posts by name\"\n",
    "layout: categories\n",
    "permalink: /categories/\n",
    "author_profile: true\n",
    "---\n",
    "\n",
    "```\n",
    "***"
   ]
  },
  {
   "cell_type": "markdown",
   "metadata": {},
   "source": [
    "## "
   ]
  },
  {
   "cell_type": "markdown",
   "metadata": {},
   "source": []
  },
  {
   "cell_type": "markdown",
   "metadata": {},
   "source": []
  }
 ],
 "metadata": {
  "kernelspec": {
   "display_name": "Python 3",
   "language": "python",
   "name": "python3"
  },
  "language_info": {
   "codemirror_mode": {
    "name": "ipython",
    "version": 3
   },
   "file_extension": ".py",
   "mimetype": "text/x-python",
   "name": "python",
   "nbconvert_exporter": "python",
   "pygments_lexer": "ipython3",
   "version": "3.7.6"
  }
 },
 "nbformat": 4,
 "nbformat_minor": 4
}
